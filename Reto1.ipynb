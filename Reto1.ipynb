{
  "nbformat": 4,
  "nbformat_minor": 0,
  "metadata": {
    "colab": {
      "name": "Copia de Reto1.ipynb",
      "provenance": [],
      "collapsed_sections": []
    },
    "kernelspec": {
      "name": "python3",
      "display_name": "Python 3"
    },
    "language_info": {
      "name": "python"
    }
  },
  "cells": [
    {
      "cell_type": "markdown",
      "metadata": {
        "id": "nCjE4hgyjNPT"
      },
      "source": [
        "# Reto 1:\n",
        "\n",
        "---\n",
        "\n"
      ]
    },
    {
      "cell_type": "markdown",
      "metadata": {
        "id": "DUu2A4GtjRV6"
      },
      "source": [
        "## Ejercicio 1: Variables"
      ]
    },
    {
      "cell_type": "markdown",
      "metadata": {
        "id": "0qc1n8-ukahY"
      },
      "source": [
        "Crea una variable llamada `titulo_libro` y asignale el libro que más te guste"
      ]
    },
    {
      "cell_type": "code",
      "metadata": {
        "id": "KJaYe7czkj6S"
      },
      "source": [
        ""
      ],
      "execution_count": null,
      "outputs": []
    },
    {
      "cell_type": "markdown",
      "metadata": {
        "id": "sycdwGVhkMFA"
      },
      "source": [
        "Crea una variable llamada `numero_suerte` y asignale tu número de la suerte"
      ]
    },
    {
      "cell_type": "code",
      "metadata": {
        "id": "P32CXA2zipLd"
      },
      "source": [
        ""
      ],
      "execution_count": null,
      "outputs": []
    },
    {
      "cell_type": "markdown",
      "metadata": {
        "id": "8eCYlApolazY"
      },
      "source": [
        "Crea una variable llamada `suma_edades` y coloca la suma de las edades de los integrantes de equipo y al final manda a imprimir la variable con `print()`"
      ]
    },
    {
      "cell_type": "code",
      "metadata": {
        "id": "I8s2uuELmSz2"
      },
      "source": [
        ""
      ],
      "execution_count": null,
      "outputs": []
    },
    {
      "cell_type": "markdown",
      "metadata": {
        "id": "q3ZgvxgbmuEO"
      },
      "source": [
        "## Ejercicio 2: Suma de variables"
      ]
    },
    {
      "cell_type": "markdown",
      "metadata": {
        "id": "154gcOAonErO"
      },
      "source": [
        "Escogan 3 números aleatorioamente entre 100 y 1000 en equipo y asignenlos a `valor1`, `valor2` y `valor2`"
      ]
    },
    {
      "cell_type": "code",
      "metadata": {
        "id": "08Hx8yB6n3WM"
      },
      "source": [
        "valor1 =\n",
        "valor2 =\n",
        "valor3 ="
      ],
      "execution_count": null,
      "outputs": []
    },
    {
      "cell_type": "markdown",
      "metadata": {
        "id": "5nTdHJsUn58G"
      },
      "source": [
        "Ahora imprimir la suma de `valor1` con `valor3`"
      ]
    },
    {
      "cell_type": "code",
      "metadata": {
        "id": "cbti4yg7oFXZ"
      },
      "source": [
        ""
      ],
      "execution_count": null,
      "outputs": []
    },
    {
      "cell_type": "markdown",
      "metadata": {
        "id": "RfaCkVzDoHbg"
      },
      "source": [
        "La resta de `valor2` menos `valor3`"
      ]
    },
    {
      "cell_type": "code",
      "metadata": {
        "id": "tk-NBtb7oOsQ"
      },
      "source": [
        ""
      ],
      "execution_count": null,
      "outputs": []
    },
    {
      "cell_type": "markdown",
      "metadata": {
        "id": "1Xa_RHhYoRZF"
      },
      "source": [
        "La multiplicación entre `valor1` y `valor2`"
      ]
    },
    {
      "cell_type": "code",
      "metadata": {
        "id": "YMFFApCjoX-A"
      },
      "source": [
        ""
      ],
      "execution_count": null,
      "outputs": []
    },
    {
      "cell_type": "markdown",
      "metadata": {
        "id": "rkLKuewFoeit"
      },
      "source": [
        "## Ejercicio 3: Format"
      ]
    },
    {
      "cell_type": "markdown",
      "metadata": {
        "id": "Do6iGYn7o-t2"
      },
      "source": [
        "Con la variable `suma_edades` que hiciste en el Ejercicio 1, deberas meterla en un print de tal manera que salga de esta manera el mensaje:\n",
        "\n",
        "**La suma de las edades de Juan, María y Pablo es de 45 años**\n",
        "\n",
        "Cambia los nombres, por los integrantes del equipo"
      ]
    },
    {
      "cell_type": "code",
      "metadata": {
        "id": "gQv9kyymov4z"
      },
      "source": [
        ""
      ],
      "execution_count": null,
      "outputs": []
    },
    {
      "cell_type": "markdown",
      "metadata": {
        "id": "7YoThJ5wpjZG"
      },
      "source": [
        "Crea 3 varaibles, `ancho_terreno`, `largo_terrero` y `area_terreno`. \n",
        "\n",
        "Al ancho le asignaras 25 y al largo 30\n",
        "\n",
        "Sacaras el área con la formula Ancho x Alto y lo asiganaras a `area_terreno`.\n",
        "\n",
        "Imprime un mensaje en format que se vea de la siguiente manera, utilizando las variables\n",
        "\n",
        "**El área del terreno con un ancho de 25 mts y de largo 30 mts, es de: 750 mts cuadrados**"
      ]
    },
    {
      "cell_type": "code",
      "metadata": {
        "id": "xlbWfbbEvGMH"
      },
      "source": [
        ""
      ],
      "execution_count": null,
      "outputs": []
    },
    {
      "cell_type": "markdown",
      "metadata": {
        "id": "my7VpwUcvp1K"
      },
      "source": [
        "## Ejercicio 4: Input"
      ]
    },
    {
      "cell_type": "markdown",
      "metadata": {
        "id": "mrZ0RxICwSsJ"
      },
      "source": [
        "Crea una variable llamada `nombre` donde le asiganaras un input que diga \"*Dame tu nombre*\".\n",
        "\n",
        "Crea una variable llamada `edad` donde le asignaras un input(dentro de un int) que diga \"*Dame tu edad*\".\n",
        "\n",
        "Manda a imprimir un format que diga:\n",
        "\n",
        "**\"Su nombre es: ____ y su edad es de ___ años\"**\n",
        "\n",
        "Todo en la misma celda"
      ]
    },
    {
      "cell_type": "code",
      "metadata": {
        "id": "hCICpOwAvruU"
      },
      "source": [
        ""
      ],
      "execution_count": null,
      "outputs": []
    },
    {
      "cell_type": "markdown",
      "metadata": {
        "id": "C5jtrBn7x5KE"
      },
      "source": [
        "## Extra Points"
      ]
    },
    {
      "cell_type": "markdown",
      "metadata": {
        "id": "J1CV99N7x7RB"
      },
      "source": [
        "Crea una variable llamada `total` y le asignaras un input númerico que diga \"*Dame un número*\".\n",
        "\n",
        "Crea una varaible llamada `porcentaje` y le asignaaras un input númerico que diga \"*¿Qué porcentaje quieres sacar*\"\n",
        "\n",
        "Crea una variable llamada `resultado` donde haras el calculo del porcentaje del número con las variables `total` y `porcentaje` \n",
        "\n",
        "Manda a imprimir un format que diga \n",
        "\n",
        "**El ___ % de ____ es de ____**\n",
        "\n",
        "Todo en una misma celda\n"
      ]
    },
    {
      "cell_type": "code",
      "metadata": {
        "id": "RXCty6A1x6VI"
      },
      "source": [
        ""
      ],
      "execution_count": null,
      "outputs": []
    }
  ]
}